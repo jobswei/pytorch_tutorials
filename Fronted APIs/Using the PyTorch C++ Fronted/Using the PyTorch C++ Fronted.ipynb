{
 "cells": [
  {
   "cell_type": "code",
   "execution_count": null,
   "metadata": {},
   "outputs": [],
   "source": [
    "# C++ API: https://pytorch.org/cppdocs/\n",
    "# torch::nn内置模块完整列表：https://pytorch.org/cppdocs/api/namespace_torch__nn.html\n",
    "# https://pytorch.org/cppdocs/api/classtorch_1_1nn_1_1_module.html#exhale-class-classtorch-1-1nn-1-1-module"
   ]
  },
  {
   "cell_type": "code",
   "execution_count": null,
   "metadata": {},
   "outputs": [],
   "source": []
  }
 ],
 "metadata": {
  "kernelspec": {
   "display_name": "Python 3 (ipykernel)",
   "language": "python",
   "name": "python3"
  }
 },
 "nbformat": 4,
 "nbformat_minor": 2
}
